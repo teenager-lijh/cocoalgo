{
 "cells": [
  {
   "cell_type": "markdown",
   "metadata": {},
   "source": [
    "#### 普通的函数"
   ]
  },
  {
   "cell_type": "code",
   "execution_count": 69,
   "metadata": {},
   "outputs": [],
   "source": [
    "def fib(n):\n",
    "    a, b = 1, 1\n",
    "    if n == 1:\n",
    "        return [1]\n",
    "    if n == 2:\n",
    "        return [1, 1]\n",
    "\n",
    "    res = [a, b]\n",
    "    for i in range(n-2):\n",
    "        a, b = b, a+b\n",
    "        res.append(b)\n",
    "    \n",
    "    return res"
   ]
  },
  {
   "cell_type": "code",
   "execution_count": 70,
   "metadata": {},
   "outputs": [
    {
     "data": {
      "text/plain": [
       "[1, 1, 2, 3, 5, 8, 13, 21, 34]"
      ]
     },
     "execution_count": 70,
     "metadata": {},
     "output_type": "execute_result"
    }
   ],
   "source": [
    "fib(9)"
   ]
  },
  {
   "cell_type": "markdown",
   "metadata": {},
   "source": [
    "## 生成器函数"
   ]
  },
  {
   "cell_type": "code",
   "execution_count": 71,
   "metadata": {},
   "outputs": [],
   "source": [
    "def generator_example():\n",
    "    yield 'hello world'\n",
    "    yield 'I am blueberry'\n",
    "    yield 'I want to help you to become better :)'"
   ]
  },
  {
   "cell_type": "code",
   "execution_count": 72,
   "metadata": {},
   "outputs": [],
   "source": [
    "example = generator_example()"
   ]
  },
  {
   "cell_type": "code",
   "execution_count": 73,
   "metadata": {},
   "outputs": [
    {
     "name": "stdout",
     "output_type": "stream",
     "text": [
      "hello world\n",
      "I am blueberry\n",
      "I want to help you to become better :)\n"
     ]
    }
   ],
   "source": [
    "for each in example:\n",
    "    print(each)"
   ]
  },
  {
   "cell_type": "code",
   "execution_count": 74,
   "metadata": {},
   "outputs": [],
   "source": [
    "def generator_example():\n",
    "    print('输出了第 1 个字符串')\n",
    "    yield 'hello world'\n",
    "    \n",
    "    print('输出了第 2 个字符串')\n",
    "    yield 'I am blueberry'\n",
    "    \n",
    "    print('输出了第 1 个字符串')\n",
    "    yield 'I want to help you to become better :)'\n",
    "\n",
    "example = generator_example()"
   ]
  },
  {
   "cell_type": "code",
   "execution_count": 75,
   "metadata": {},
   "outputs": [
    {
     "name": "stdout",
     "output_type": "stream",
     "text": [
      "输出了第 1 个字符串\n",
      "hello world\n"
     ]
    }
   ],
   "source": [
    "s1 = next(example)\n",
    "print(s1)"
   ]
  },
  {
   "cell_type": "code",
   "execution_count": 76,
   "metadata": {},
   "outputs": [
    {
     "name": "stdout",
     "output_type": "stream",
     "text": [
      "输出了第 2 个字符串\n",
      "I am blueberry\n"
     ]
    }
   ],
   "source": [
    "s2 = next(example)\n",
    "print(s2)"
   ]
  },
  {
   "cell_type": "code",
   "execution_count": 77,
   "metadata": {},
   "outputs": [
    {
     "name": "stdout",
     "output_type": "stream",
     "text": [
      "输出了第 1 个字符串\n",
      "I want to help you to become better :)\n"
     ]
    }
   ],
   "source": [
    "s3 = next(example)\n",
    "print(s3)"
   ]
  },
  {
   "cell_type": "code",
   "execution_count": 78,
   "metadata": {},
   "outputs": [],
   "source": [
    "def fib_generator(n):\n",
    "    assert n >= 3, 'n 应大于等于 3'\n",
    "    \n",
    "    yield 1\n",
    "    yield 1\n",
    "\n",
    "    a, b = 1, 1\n",
    "    for i in range(3, n+1):\n",
    "        a, b = b, a+b\n",
    "        yield b"
   ]
  },
  {
   "cell_type": "code",
   "execution_count": 79,
   "metadata": {},
   "outputs": [
    {
     "name": "stdout",
     "output_type": "stream",
     "text": [
      "1, 1, 2, 3, 5, 8, 13, 21, 34, "
     ]
    }
   ],
   "source": [
    "for each in fib_generator(9):\n",
    "    print(each, end=', ')"
   ]
  },
  {
   "cell_type": "code",
   "execution_count": 82,
   "metadata": {},
   "outputs": [
    {
     "name": "stdout",
     "output_type": "stream",
     "text": [
      "1, 1, 2, "
     ]
    }
   ],
   "source": [
    "for each in fib_generator(3):\n",
    "    print(each, end=', ')"
   ]
  },
  {
   "cell_type": "code",
   "execution_count": null,
   "metadata": {},
   "outputs": [],
   "source": []
  }
 ],
 "metadata": {
  "kernelspec": {
   "display_name": "Python 3.10.5 64-bit",
   "language": "python",
   "name": "python3"
  },
  "language_info": {
   "codemirror_mode": {
    "name": "ipython",
    "version": 3
   },
   "file_extension": ".py",
   "mimetype": "text/x-python",
   "name": "python",
   "nbconvert_exporter": "python",
   "pygments_lexer": "ipython3",
   "version": "3.10.5"
  },
  "orig_nbformat": 4,
  "vscode": {
   "interpreter": {
    "hash": "aee8b7b246df8f9039afb4144a1f6fd8d2ca17a180786b69acc140d282b71a49"
   }
  }
 },
 "nbformat": 4,
 "nbformat_minor": 2
}
