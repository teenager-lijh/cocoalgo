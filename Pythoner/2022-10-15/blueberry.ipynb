{
 "cells": [
  {
   "cell_type": "code",
   "execution_count": 49,
   "metadata": {},
   "outputs": [],
   "source": [
    "class Blueberry:\n",
    "    def say(self):\n",
    "        print('I am blueberry 蓝莓')"
   ]
  },
  {
   "cell_type": "code",
   "execution_count": 50,
   "metadata": {},
   "outputs": [
    {
     "name": "stdout",
     "output_type": "stream",
     "text": [
      "I am blueberry 蓝莓\n"
     ]
    }
   ],
   "source": [
    "blueberry = Blueberry()\n",
    "blueberry.say()"
   ]
  },
  {
   "cell_type": "code",
   "execution_count": 51,
   "metadata": {},
   "outputs": [
    {
     "name": "stdout",
     "output_type": "stream",
     "text": [
      "I am blueberry 蓝莓\n"
     ]
    }
   ],
   "source": [
    "BlueVerse = Blueberry\n",
    "blue_verse = BlueVerse()\n",
    "blue_verse.say()"
   ]
  },
  {
   "cell_type": "code",
   "execution_count": 52,
   "metadata": {},
   "outputs": [],
   "source": [
    "class Blueberry:\n",
    "    def say(self):\n",
    "        print('I am blueberry 蓝莓')\n",
    "\n",
    "class HaibaraAi:\n",
    "    def say(self):\n",
    "        print('I am Haibara Ai 灰原哀')\n",
    "\n",
    "\n",
    "class Gin:\n",
    "    def say(self):\n",
    "        print('I am Gin 琴酒')"
   ]
  },
  {
   "cell_type": "code",
   "execution_count": 53,
   "metadata": {},
   "outputs": [],
   "source": [
    "members = [Blueberry, HaibaraAi, Gin]"
   ]
  },
  {
   "cell_type": "code",
   "execution_count": 54,
   "metadata": {},
   "outputs": [
    {
     "name": "stdout",
     "output_type": "stream",
     "text": [
      "I am blueberry 蓝莓\n",
      "I am Haibara Ai 灰原哀\n",
      "I am Gin 琴酒\n"
     ]
    }
   ],
   "source": [
    "for member in members:\n",
    "    obj = member()\n",
    "    obj.say()"
   ]
  }
 ],
 "metadata": {
  "kernelspec": {
   "display_name": "Python 3.10.5 64-bit",
   "language": "python",
   "name": "python3"
  },
  "language_info": {
   "codemirror_mode": {
    "name": "ipython",
    "version": 3
   },
   "file_extension": ".py",
   "mimetype": "text/x-python",
   "name": "python",
   "nbconvert_exporter": "python",
   "pygments_lexer": "ipython3",
   "version": "3.10.5"
  },
  "orig_nbformat": 4,
  "vscode": {
   "interpreter": {
    "hash": "aee8b7b246df8f9039afb4144a1f6fd8d2ca17a180786b69acc140d282b71a49"
   }
  }
 },
 "nbformat": 4,
 "nbformat_minor": 2
}
